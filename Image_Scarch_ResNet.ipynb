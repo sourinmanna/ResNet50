{
 "cells": [
  {
   "cell_type": "code",
   "execution_count": null,
   "metadata": {},
   "outputs": [],
   "source": []
  },
  {
   "cell_type": "code",
   "execution_count": 19,
   "metadata": {},
   "outputs": [],
   "source": [
    "import tensorflow as tf\n",
    "from tensorflow.keras.applications import VGG16, ResNet50\n",
    "from tensorflow.keras.models import Model\n",
    "from tensorflow.keras.layers import GlobalMaxPooling2D\n",
    "import numpy as np\n",
    "import matplotlib.pyplot as plt\n",
    "import cv2"
   ]
  },
  {
   "cell_type": "code",
   "execution_count": 2,
   "metadata": {},
   "outputs": [],
   "source": [
    "# Function to extract features using VGG16\n",
    "def extract_vgg16_features(image):\n",
    "    # Load VGG16 model pre-trained on ImageNet, include_top=False excludes the fully connected layers\n",
    "    vgg16 = VGG16(weights='imagenet', include_top=False, input_shape=(224, 224, 3))\n",
    "    # Get the output from the last convolutional layer\n",
    "    vgg16_out = vgg16.get_layer('block5_conv3').output\n",
    "    # Add GlobalMaxPooling2D layer\n",
    "    vgg16_out = GlobalMaxPooling2D()(vgg16_out)\n",
    "    # Create a new model\n",
    "    vgg16_model = Model(inputs=vgg16.input, outputs=vgg16_out)\n",
    "    # Preprocess the image and extract features\n",
    "    image = tf.keras.applications.vgg16.preprocess_input(image)\n",
    "    features = vgg16_model.predict(image)\n",
    "    return features"
   ]
  },
  {
   "cell_type": "markdown",
   "metadata": {},
   "source": [
    "When you set \"include_top=False\", you are using only the convolutional base of the network, which includes all the convolutional and pooling layers but excludes the fully connected layers at the end. This allows you to use the model for feature extraction or fine-tuning on a different task."
   ]
  },
  {
   "cell_type": "markdown",
   "metadata": {},
   "source": [
    "This is useful for feature extraction, where you only want the convolutional part of the network to generate feature maps."
   ]
  },
  {
   "cell_type": "markdown",
   "metadata": {},
   "source": [
    "It is also useful for transfer learning, where you can add your own custom layers on top of the convolutional base to adapt the model to a new task or dataset."
   ]
  },
  {
   "cell_type": "code",
   "execution_count": 11,
   "metadata": {},
   "outputs": [],
   "source": [
    "# Function to extract features using ResNet50\n",
    "def extract_resnet50_features(image):\n",
    "    # Load ResNet50 model pre-trained on ImageNet, include_top=False excludes the fully connected layers\n",
    "    #\"include_top=False is used to exclude the fully connected (dense) layers at the top of the network\"\n",
    "    resnet50 = ResNet50(weights='imagenet', include_top=False, input_shape=(224, 224, 3))\n",
    "    # Get the output from the last convolutional layer\n",
    "    resnet50_out = resnet50.get_layer('conv5_block3_out').output\n",
    "    # Add GlobalMaxPooling2D layer\n",
    "    resnet50_out = GlobalMaxPooling2D()(resnet50_out)\n",
    "    # Create a new model\n",
    "    resnet50_model = Model(inputs=resnet50.input, outputs=resnet50_out)\n",
    "    # Preprocess the image and extract features\n",
    "    image = tf.keras.applications.resnet50.preprocess_input(image)\n",
    "    features = resnet50_model.predict(image)\n",
    "    print(features)\n",
    "    print(features.shape)\n",
    "    return features"
   ]
  },
  {
   "cell_type": "code",
   "execution_count": 18,
   "metadata": {},
   "outputs": [],
   "source": [
    "# Function to overlay heatmaps on the original image\n",
    "\n",
    "def overlay_heatmaps_on_image(image_path, feature_maps):\n",
    "    # Load the original image\n",
    "    original_image = cv2.imread(image_path)\n",
    "    original_image = cv2.cvtColor(original_image, cv2.COLOR_BGR2RGB)\n",
    "    original_image = cv2.resize(original_image, (224, 224))\n",
    "\n",
    "    # Normalize feature maps\n",
    "    feature_maps = feature_maps[0]\n",
    "    num_feature_maps = feature_maps.shape[-1]\n",
    "    \n",
    "    # Plot the original image\n",
    "    plt.figure(figsize=(10, 10))\n",
    "    plt.subplot(1, 2, 1)\n",
    "    plt.imshow(original_image)\n",
    "    plt.title(\"Original Image\")\n",
    "    \n",
    "    # Generate heatmaps\n",
    "    heatmap = np.mean(feature_maps, axis=-1)\n",
    "    heatmap = np.maximum(heatmap, 0)\n",
    "    heatmap /= np.max(heatmap)\n",
    "\n",
    "    # Resize heatmap to match the original image size\n",
    "    heatmap = cv2.resize(heatmap, (original_image.shape[1], original_image.shape[0]))\n",
    "\n",
    "    # Convert heatmap to RGB\n",
    "    heatmap = np.uint8(255 * heatmap)\n",
    "    heatmap = cv2.applyColorMap(heatmap, cv2.COLORMAP_JET)\n",
    "\n",
    "    # Overlay heatmap on the original image\n",
    "    superimposed_img = heatmap * 0.4 + original_image\n",
    "\n",
    "    # Plot the superimposed image\n",
    "    plt.subplot(1, 2, 2)\n",
    "    plt.imshow(superimposed_img.astype(np.uint8))\n",
    "    plt.title(\"Overlayed Heatmap\")\n",
    "\n",
    "    plt.show()\n"
   ]
  },
  {
   "cell_type": "code",
   "execution_count": 20,
   "metadata": {},
   "outputs": [],
   "source": [
    "#An example image is loaded, preprocessed, and features are extracted using both models."
   ]
  },
  {
   "cell_type": "code",
   "execution_count": 17,
   "metadata": {},
   "outputs": [
    {
     "name": "stdout",
     "output_type": "stream",
     "text": [
      "1/1 [==============================] - 1s 1s/step\n",
      "[[0.        0.        0.        ... 2.691609  4.3028574 0.       ]]\n",
      "(1, 2048)\n",
      "ResNet50 features shape: (1, 2048)\n"
     ]
    },
    {
     "data": {
      "image/png": "[encoded data removed]",
      "text/plain": [
       "<Figure size 1000x1000 with 2 Axes>"
      ]
     },
     "metadata": {},
     "output_type": "display_data"
    }
   ],
   "source": [
    "# Example usage\n",
    "\n",
    "if __name__ == \"__main__\":\n",
    "    # Load and preprocess an example image (replace 'example.jpg' with your image file)\n",
    "    image_path = 'page_1.png'\n",
    "    image = tf.keras.preprocessing.image.load_img(image_path, target_size=(224, 224))\n",
    "    image = tf.keras.preprocessing.image.img_to_array(image)\n",
    "    image = np.expand_dims(image, axis=0)\n",
    "\n",
    "    # Extract features using VGG16\n",
    "    # vgg16_features = extract_vgg16_features(image)\n",
    "    # print(\"VGG16 features shape:\", vgg16_features.shape)\n",
    "\n",
    "    # Extract features using ResNet50\n",
    "    resnet50_features = extract_resnet50_features(image)\n",
    "    print(\"ResNet50 features shape:\", resnet50_features.shape)\n",
    "\n",
    "    # Overlay heatmaps on the original image\n",
    "    overlay_heatmaps_on_image(image_path, resnet50_features)"
   ]
  },
  {
   "cell_type": "code",
   "execution_count": 14,
   "metadata": {},
   "outputs": [
    {
     "name": "stdout",
     "output_type": "stream",
     "text": [
      "Collecting opencv-python\n",
      "  Downloading opencv_python-4.10.0.84-cp37-abi3-win_amd64.whl (38.8 MB)\n",
      "     ---------------------------------------- 38.8/38.8 MB 1.6 MB/s eta 0:00:00\n",
      "Requirement already satisfied: numpy>=1.21.2 in c:\\users\\hp\\appdata\\local\\programs\\python\\python310\\lib\\site-packages (from opencv-python) (1.24.1)\n",
      "Installing collected packages: opencv-python\n",
      "Successfully installed opencv-python-4.10.0.84\n",
      "Note: you may need to restart the kernel to use updated packages.\n"
     ]
    },
    {
     "name": "stderr",
     "output_type": "stream",
     "text": [
      "\n",
      "[notice] A new release of pip available: 22.2.2 -> 24.1.1\n",
      "[notice] To update, run: python.exe -m pip install --upgrade pip\n"
     ]
    }
   ],
   "source": [
    "pip install opencv-python"
   ]
  },
  {
   "cell_type": "code",
   "execution_count": null,
   "metadata": {},
   "outputs": [],
   "source": []
  },
  {
   "cell_type": "code",
   "execution_count": null,
   "metadata": {},
   "outputs": [],
   "source": []
  }
 ],
 "metadata": {
  "kernelspec": {
   "display_name": "Python 3",
   "language": "python",
   "name": "python3"
  },
  "language_info": {
   "codemirror_mode": {
    "name": "ipython",
    "version": 3
   },
   "file_extension": ".py",
   "mimetype": "text/x-python",
   "name": "python",
   "nbconvert_exporter": "python",
   "pygments_lexer": "ipython3",
   "version": "3.10.8"
  }
 },
 "nbformat": 4,
 "nbformat_minor": 2
}
